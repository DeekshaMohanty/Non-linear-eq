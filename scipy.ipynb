{
 "cells": [
  {
   "cell_type": "code",
   "execution_count": 3,
   "id": "initial_id",
   "metadata": {
    "collapsed": true,
    "ExecuteTime": {
     "end_time": "2024-04-03T23:17:29.278110Z",
     "start_time": "2024-04-03T23:17:25.069870Z"
    }
   },
   "outputs": [
    {
     "name": "stdout",
     "output_type": "stream",
     "text": [
      " message: The solution converged.\n",
      " success: True\n",
      "  status: 1\n",
      "     fun: [ 0.000e+00  0.000e+00  0.000e+00]\n",
      "       x: [ 5.000e+00  4.000e+00  1.100e+01]\n",
      "  method: hybr\n",
      "    nfev: 6\n",
      "    fjac: [[-4.082e-01  8.165e-01 -4.082e-01]\n",
      "           [-8.339e-01 -1.516e-01  5.307e-01]\n",
      "           [-3.714e-01 -5.571e-01 -7.428e-01]]\n",
      "       r: [-2.449e+00 -4.082e-01  1.225e+00 -2.198e+00  6.823e-01\n",
      "           -1.857e-01]\n",
      "     qtf: [-8.920e-13 -2.814e-12 -4.457e-12]\n"
     ]
    }
   ],
   "source": [
    "import scipy.optimize\n",
    "import numpy as np\n",
    "\n",
    "A = np.array([[1, 2, -1], [-2, 0, 1], [1, -1, 0]])\n",
    "\n",
    "def foo(X):\n",
    "    X = np.array(X)\n",
    "    b = np.array([2, 1, 1])\n",
    "    out = np.dot(A, X) - b\n",
    "    return out\n",
    "\n",
    "sol = scipy.optimize.root(foo, [0, 0, 0])  #initial guess for the roots\n",
    "print(sol)"
   ]
  },
  {
   "cell_type": "code",
   "execution_count": null,
   "outputs": [],
   "source": [],
   "metadata": {
    "collapsed": false
   },
   "id": "27da95479424329c"
  }
 ],
 "metadata": {
  "kernelspec": {
   "display_name": "Python 3",
   "language": "python",
   "name": "python3"
  },
  "language_info": {
   "codemirror_mode": {
    "name": "ipython",
    "version": 2
   },
   "file_extension": ".py",
   "mimetype": "text/x-python",
   "name": "python",
   "nbconvert_exporter": "python",
   "pygments_lexer": "ipython2",
   "version": "2.7.6"
  }
 },
 "nbformat": 4,
 "nbformat_minor": 5
}
