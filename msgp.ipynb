{
 "cells": [
  {
   "cell_type": "code",
   "execution_count": 1,
   "id": "initial_id",
   "metadata": {
    "collapsed": true,
    "ExecuteTime": {
     "end_time": "2024-04-03T23:15:14.223780Z",
     "start_time": "2024-04-03T23:15:13.649724Z"
    }
   },
   "outputs": [
    {
     "name": "stdout",
     "output_type": "stream",
     "text": [
      "Convergence achieved in 10762 iterations\n",
      "Solution: [1.00092658 1.00185647]\n"
     ]
    }
   ],
   "source": [
    "import numpy as np\n",
    "def g(x):\n",
    "    a, b = 1, 100\n",
    "    dx = -2 * (a - x[0]) - 4 * b * x[0] * (x[1] - x[0] ** 2)\n",
    "    dy = 2 * b * (x[1] - x[0] ** 2)\n",
    "    return np.array([dx, dy])\n",
    "\n",
    "\n",
    "def projection(x, X):\n",
    "    # Ising the whole R2 space\n",
    "    return x\n",
    "\n",
    "\n",
    "def MSGP(x0, X, r=0.01, rho=0.9, sigma=0.0001, epsilon=1e-6, beta=0.5, delta=0.1, max_iter=1000000):\n",
    "    xk = x0\n",
    "    n = len(xk)\n",
    "    sk = np.zeros(n)\n",
    "    yk = np.zeros(n)\n",
    "\n",
    "    for k in range(max_iter):\n",
    "        gk = g(xk)\n",
    "        if np.linalg.norm(gk) < epsilon:\n",
    "            print(f\"Convergence achieved in {k} iterations\")\n",
    "            return xk\n",
    "\n",
    "        if k == 0:\n",
    "            dk = -gk\n",
    "        else:\n",
    "            lambda_k = np.zeros(n)\n",
    "            for i in range(n):\n",
    "                if sk[i] != 0:\n",
    "                    if yk[i] / sk[i] > 0:\n",
    "                        lambda_k[i] = yk[i] / sk[i] # Modified Barzilai-Borwein method\n",
    "                    else:\n",
    "                        denom = np.dot(sk, sk)\n",
    "                        if denom != 0:\n",
    "                            lambda_k[i] = np.dot(sk, yk) / denom\n",
    "                lambda_k[i] = max(min(lambda_k[i], 1 / epsilon), epsilon)\n",
    "                lambda_k[i] = np.where(lambda_k[i] <= epsilon or lambda_k[i] >= 1 / epsilon, delta, lambda_k[i])\n",
    "\n",
    "            Dk = np.diag(1 / lambda_k)\n",
    "            dk = -np.dot(Dk, gk)\n",
    "\n",
    "        # Line search\n",
    "        alpha_k = beta\n",
    "        while True:\n",
    "            new_xk = xk + alpha_k * dk\n",
    "            if -np.dot(g(new_xk), dk) >= sigma * alpha_k * np.linalg.norm(g(new_xk)) * np.linalg.norm(dk):\n",
    "                break\n",
    "            alpha_k *= rho\n",
    "\n",
    "        xk = xk + alpha_k * dk\n",
    "\n",
    "        if np.linalg.norm(xk - (xk - alpha_k * dk)) < epsilon:\n",
    "            print(f\"Convergence achieved in {k + 1} iterations\")\n",
    "            return xk\n",
    "\n",
    "        sk = xk - (xk - alpha_k * dk)\n",
    "        yk = g(xk) - g(xk - alpha_k * dk)\n",
    "\n",
    "    print(\"Maximum iterations reached without convergence.\")\n",
    "    return xk\n",
    "\n",
    "X = None  # No bounds\n",
    "x0 = np.array([-1.2, 1.0])  # Initial guess\n",
    "result = MSGP(x0, X)\n",
    "print(\"Solution:\", result)\n"
   ]
  },
  {
   "cell_type": "code",
   "execution_count": null,
   "outputs": [],
   "source": [],
   "metadata": {
    "collapsed": false
   },
   "id": "321e384c3ab5f166"
  }
 ],
 "metadata": {
  "kernelspec": {
   "display_name": "Python 3",
   "language": "python",
   "name": "python3"
  },
  "language_info": {
   "codemirror_mode": {
    "name": "ipython",
    "version": 2
   },
   "file_extension": ".py",
   "mimetype": "text/x-python",
   "name": "python",
   "nbconvert_exporter": "python",
   "pygments_lexer": "ipython2",
   "version": "2.7.6"
  }
 },
 "nbformat": 4,
 "nbformat_minor": 5
}
