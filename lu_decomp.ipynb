{
 "cells": [
  {
   "cell_type": "code",
   "execution_count": 1,
   "id": "initial_id",
   "metadata": {
    "collapsed": true,
    "ExecuteTime": {
     "end_time": "2024-04-03T23:14:51.072048Z",
     "start_time": "2024-04-03T23:14:50.544801Z"
    }
   },
   "outputs": [
    {
     "name": "stdout",
     "output_type": "stream",
     "text": [
      "Iteration 1, x: [1.85714286 1.28571429]\n",
      "Iteration 2, x: [1.51335559 0.52587646]\n",
      "Iteration 3, x: [1.93216962 0.27339248]\n"
     ]
    }
   ],
   "source": [
    "import numpy as np\n",
    "\n",
    "def update_matrix(x):\n",
    "    return np.array([[x[0] + 1, x[1]], [x[1], x[0] + 3]], float)\n",
    "\n",
    "# Initial guess for x\n",
    "x = np.array([1, 1], float) #does using 1. instead of float save space?\n",
    "#also get a convergence rate, how fast it converges, maybe a plot\n",
    "\n",
    "b = np.array([5, 7], float)\n",
    "iterations = 3\n",
    "\n",
    "for _ in range(iterations):\n",
    "    A = update_matrix(x)\n",
    "\n",
    "    # Forward Elimination\n",
    "    for k in range(A.shape[0] - 1):\n",
    "        for i in range(k + 1, A.shape[0]):\n",
    "            factor = A[i, k] / A[k, k]\n",
    "            A[i, k:] -= factor * A[k, k:]\n",
    "            b[i] -= factor * b[k]\n",
    "\n",
    "    # Backward Substitution\n",
    "    x[-1] = b[-1] / A[-1, -1]\n",
    "    for i in range(A.shape[0] - 2, -1, -1):\n",
    "        sums = b[i]\n",
    "        for j in range(i + 1, A.shape[0]):\n",
    "            sums -= A[i, j] * x[j]\n",
    "        x[i] = sums / A[i, i]\n",
    "\n",
    "    print(f\"Iteration {_+1}, x: {x}\")\n"
   ]
  },
  {
   "cell_type": "code",
   "execution_count": null,
   "outputs": [],
   "source": [],
   "metadata": {
    "collapsed": false
   },
   "id": "d27af1a765bafe50"
  }
 ],
 "metadata": {
  "kernelspec": {
   "display_name": "Python 3",
   "language": "python",
   "name": "python3"
  },
  "language_info": {
   "codemirror_mode": {
    "name": "ipython",
    "version": 2
   },
   "file_extension": ".py",
   "mimetype": "text/x-python",
   "name": "python",
   "nbconvert_exporter": "python",
   "pygments_lexer": "ipython2",
   "version": "2.7.6"
  }
 },
 "nbformat": 4,
 "nbformat_minor": 5
}
